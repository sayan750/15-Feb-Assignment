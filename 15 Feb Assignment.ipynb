{
 "cells": [
  {
   "cell_type": "markdown",
   "id": "0eccd178-22aa-492a-b517-96002860aaac",
   "metadata": {},
   "source": [
    "### Q1.\n",
    "\n",
    "**Multiprocessing in Python refers to the capability of the language to execute multiple processes or tasks concurrently on a computer with multiple CPUs or cores. It is a way to utilize multiple CPUs or cores in order to perform tasks concurrently, thus speeding up the processing time of the program.**\n",
    "\n",
    "**Important of Multiprocessing:-**\n",
    "\n",
    "**1. Parallelizing CPU-bound tasks: Multiprocessing can be used to split a CPU-bound task into multiple processes and execute them concurrently, which can reduce the overall execution time.**\n",
    "\n",
    "**2. Scaling up code on multiple CPUs: Multiprocessing can be used to scale up code on multiple CPUs or cores, which can help to process large datasets, run simulations, or optimize complex algorithms.**\n",
    "\n",
    "**3. Improving system responsiveness: Multiprocessing can be used to delegate long-running or intensive tasks to separate processes, which can improve the responsiveness of the overall system and prevent it from freezing or becoming unresponsive.**"
   ]
  },
  {
   "cell_type": "markdown",
   "id": "c7b1993a-30f8-4de3-bea6-64f12ce7ea74",
   "metadata": {},
   "source": [
    "### Q2.\n",
    "\n",
    "**The difference between multiprocessing and multithreading:-**\n",
    "\n",
    "**Definition: Multiprocessing involves dividing a single process into multiple processes, each with their own address space, memory, and resources, whereas multithreading involves dividing a single process into multiple threads, each sharing the same memory and resources.**\n",
    "\n",
    "**Parallelism: Multiprocessing can achieve true parallelism because each process runs on a separate CPU core, whereas multithreading can only achieve concurrency because multiple threads share the same CPU core and take turns executing.**\n",
    "\n",
    "**Overhead: Multiprocessing incurs higher overhead because each process has its own memory space and resources, which requires more time and resources to manage. In contrast, multithreading has lower overhead because threads share the same memory space and resources.**\n",
    "\n",
    "**Communication: Inter-process communication (IPC) is required for communication between different processes, which is generally slower and more complex than inter-thread communication. In contrast, inter-thread communication is faster and simpler, and can be achieved using shared memory or message passing.**\n",
    "\n",
    "**Scalability: Multiprocessing can be more scalable because it can leverage multiple CPUs or even multiple machines, whereas multithreading is limited by the number of CPU cores in a single machine.**"
   ]
  },
  {
   "cell_type": "markdown",
   "id": "faf79207-8a54-4887-b5b7-cf097c1458f0",
   "metadata": {},
   "source": [
    "### Q3."
   ]
  },
  {
   "cell_type": "code",
   "execution_count": 2,
   "id": "4a07f921-0332-4b24-86de-efcf2d410dcd",
   "metadata": {},
   "outputs": [
    {
     "name": "stdout",
     "output_type": "stream",
     "text": [
      "Hello from a child process\n",
      "Child process has terminated\n"
     ]
    }
   ],
   "source": [
    "import multiprocessing\n",
    "\n",
    "def my_process():\n",
    "    print(\"Hello from a child process\")\n",
    "\n",
    "if __name__ == '__main__':\n",
    "    p = multiprocessing.Process(target=my_process)\n",
    "    p.start()\n",
    "    p.join()\n",
    "\n",
    "    print(\"Child process has terminated\")"
   ]
  },
  {
   "cell_type": "markdown",
   "id": "e68ddf87-7b48-43ef-874e-d7a070d05c84",
   "metadata": {},
   "source": [
    "### Q4.\n",
    "\n",
    "**In Python, a multiprocessing pool is a way to parallelize the execution of a function across multiple CPU cores. It is a part of the multiprocessing module, which provides support for spawning processes.**\n",
    "\n",
    "**A pool in Python is a collection of worker processes that can be used to execute tasks asynchronously. The Pool class in the multiprocessing module provides a convenient way to create a pool of worker processes and distribute tasks among them. When a new task is submitted to the pool, a worker process is assigned to execute it.**"
   ]
  },
  {
   "cell_type": "markdown",
   "id": "949fe9e0-f6ad-4a06-9d37-32796b3389ea",
   "metadata": {},
   "source": [
    "### Q5."
   ]
  },
  {
   "cell_type": "code",
   "execution_count": 5,
   "id": "818f993e-62a7-4c63-b1bd-e81e584c97c1",
   "metadata": {},
   "outputs": [
    {
     "name": "stdout",
     "output_type": "stream",
     "text": [
      "[4, 16, 36, 64, 81]\n"
     ]
    }
   ],
   "source": [
    "def squ(n):\n",
    "    return n**2\n",
    "\n",
    "if __name__==\"__main__\":\n",
    "    with multiprocessing.Pool(processes=4) as pool:\n",
    "        m = pool.map(squ,[2,4,6,8,9])\n",
    "        print(m)"
   ]
  },
  {
   "cell_type": "markdown",
   "id": "d26f5925-1c1c-46c9-ab7b-ba049dc68816",
   "metadata": {},
   "source": [
    "### Q6."
   ]
  },
  {
   "cell_type": "code",
   "execution_count": 6,
   "id": "203d11f6-4771-42a0-afa3-02b541f58361",
   "metadata": {},
   "outputs": [
    {
     "name": "stdout",
     "output_type": "stream",
     "text": [
      "1\n",
      "2\n",
      "3\n",
      "4\n"
     ]
    }
   ],
   "source": [
    "import multiprocessing\n",
    "\n",
    "def print_number(number):\n",
    "    print(number)\n",
    "\n",
    "if __name__ == '__main__':\n",
    "    process_list = []\n",
    "    for i in range(1, 5):\n",
    "        p = multiprocessing.Process(target=print_number, args=(i,))\n",
    "        process_list.append(p)\n",
    "        p.start()\n",
    "\n",
    "    for p in process_list:\n",
    "        p.join()"
   ]
  },
  {
   "cell_type": "code",
   "execution_count": null,
   "id": "66f363c0-f1c7-4c96-bbb2-34afd4ae0ae7",
   "metadata": {},
   "outputs": [],
   "source": []
  },
  {
   "cell_type": "code",
   "execution_count": null,
   "id": "d46cd9fe-1cb3-4bb5-ada1-48d204e54be0",
   "metadata": {},
   "outputs": [],
   "source": []
  }
 ],
 "metadata": {
  "kernelspec": {
   "display_name": "Python 3 (ipykernel)",
   "language": "python",
   "name": "python3"
  },
  "language_info": {
   "codemirror_mode": {
    "name": "ipython",
    "version": 3
   },
   "file_extension": ".py",
   "mimetype": "text/x-python",
   "name": "python",
   "nbconvert_exporter": "python",
   "pygments_lexer": "ipython3",
   "version": "3.10.8"
  }
 },
 "nbformat": 4,
 "nbformat_minor": 5
}
